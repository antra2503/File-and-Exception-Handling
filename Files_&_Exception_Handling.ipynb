{
  "nbformat": 4,
  "nbformat_minor": 0,
  "metadata": {
    "colab": {
      "provenance": []
    },
    "kernelspec": {
      "name": "python3",
      "display_name": "Python 3"
    },
    "language_info": {
      "name": "python"
    }
  },
  "cells": [
    {
      "cell_type": "markdown",
      "source": [
        "# Files And Exception Handling Assignment\n"
      ],
      "metadata": {
        "id": "l0eYis8jqNab"
      }
    },
    {
      "cell_type": "markdown",
      "source": [
        "**Q1. What is the difference between interpreted and compiled languages?**\n",
        "\n",
        "--> Interpreted Language:\n",
        "\n",
        "The code is executed line by line by an interpreter.\n",
        "\n",
        "No intermediate machine code is generated; the interpreter directly executes the source code.\n",
        "\n",
        "Examples: Python, JavaScript.\n",
        "\n",
        "Pros: Easier debugging, platform-independent.\n",
        "\n",
        "Cons: Slower execution compared to compiled languages.\n",
        "\n",
        "Compiled Language:\n",
        "\n",
        "\n",
        "The source code is converted into machine code using a compiler.\n",
        "\n",
        "The compiled machine code is executed by the computer’s processor.\n",
        "\n",
        "Examples: C, C++.\n",
        "\n",
        "Pros: Faster execution as the machine code is pre-generated.\n",
        "\n",
        "Cons: Platform dependency, harder debugging."
      ],
      "metadata": {
        "id": "-WSuknT4qV1b"
      }
    },
    {
      "cell_type": "markdown",
      "source": [
        "**Q2. What is exception handling in Python?**\n",
        "\n",
        "--> Exception handling is a way to manage errors during program execution to prevent crashes. Python uses the try, except, else, and finally blocks for this purpose.\n",
        "\n",
        "try: Contains code that may raise an exception.\n",
        "\n",
        "except: Handles specific exceptions.\n",
        "\n",
        "else: Executes if no exception occurs.\n",
        "\n",
        "finally: Always executes, used for cleanup tasks.\n"
      ],
      "metadata": {
        "id": "cLfgwKz8qvJP"
      }
    },
    {
      "cell_type": "markdown",
      "source": [
        "**Q3. What is the purpose of the finally block in exception handling?**\n",
        "\n",
        "--> The finally block is used to define cleanup actions that must be executed under all circumstances, regardless of whether an exception was raised or not.\n"
      ],
      "metadata": {
        "id": "JzWCD0p_rZ6O"
      }
    },
    {
      "cell_type": "markdown",
      "source": [
        "**Q4. What is logging in Python?**\n",
        "\n",
        "--> Logging is the process of recording events, errors, or informational messages during the execution of a program. Python provides the logging module for this.\n",
        "\n",
        "Advantages:\n",
        "\n",
        "Helps in debugging and monitoring.\n",
        "\n",
        "Stores runtime information for future analysis."
      ],
      "metadata": {
        "id": "5aEI0rdKrjVl"
      }
    },
    {
      "cell_type": "markdown",
      "source": [
        "**Q5. What is the significance of the __del__ method in Python?**\n",
        "\n",
        "--> The __del__ method, also known as the destructor, is called when an object is about to be destroyed.\n",
        "\n",
        "Used for cleanup actions, like closing files or releasing resources.\n",
        "\n"
      ],
      "metadata": {
        "id": "KDsugt_qrtgg"
      }
    },
    {
      "cell_type": "markdown",
      "source": [
        "**Q6. What is the difference between import and from ... import in Python?**\n",
        "\n",
        "--> import: Imports the entire module."
      ],
      "metadata": {
        "id": "deUWll5kr59q"
      }
    },
    {
      "cell_type": "code",
      "execution_count": 1,
      "metadata": {
        "colab": {
          "base_uri": "https://localhost:8080/"
        },
        "id": "98sVXl1WqD6J",
        "outputId": "59d64415-6add-4cef-cb7f-85ed25172968"
      },
      "outputs": [
        {
          "output_type": "stream",
          "name": "stdout",
          "text": [
            "4.0\n"
          ]
        }
      ],
      "source": [
        "# Example\n",
        "import math\n",
        "print(math.sqrt(16))"
      ]
    },
    {
      "cell_type": "markdown",
      "source": [
        "from ... import: Imports specific members from the module."
      ],
      "metadata": {
        "id": "DUYOYdybsJ_c"
      }
    },
    {
      "cell_type": "code",
      "source": [
        "from math import sqrt\n",
        "print(sqrt(16))"
      ],
      "metadata": {
        "colab": {
          "base_uri": "https://localhost:8080/"
        },
        "id": "OTdLgMtZsI3q",
        "outputId": "2916d041-d34d-4e74-f91f-ad52b66a5356"
      },
      "execution_count": 2,
      "outputs": [
        {
          "output_type": "stream",
          "name": "stdout",
          "text": [
            "4.0\n"
          ]
        }
      ]
    },
    {
      "cell_type": "markdown",
      "source": [
        "**Q7. How can you handle multiple exceptions in Python?**\n",
        "\n",
        "--> You can handle multiple exceptions using:\n",
        "\n",
        "Separate except blocks:"
      ],
      "metadata": {
        "id": "I9ZjZzz6sRjv"
      }
    },
    {
      "cell_type": "code",
      "source": [
        "try:\n",
        "    result = 10 / int(input(\"Enter a number: \"))\n",
        "except ZeroDivisionError:\n",
        "    print(\"Cannot divide by zero!\")\n",
        "except ValueError:\n",
        "    print(\"Invalid input!\")"
      ],
      "metadata": {
        "colab": {
          "base_uri": "https://localhost:8080/"
        },
        "id": "Yv3x7A_SsQ1K",
        "outputId": "d0938895-19d2-4ada-9dd8-65f87d1fba47"
      },
      "execution_count": 4,
      "outputs": [
        {
          "output_type": "stream",
          "name": "stdout",
          "text": [
            "Enter a number: 0\n",
            "Cannot divide by zero!\n"
          ]
        }
      ]
    },
    {
      "cell_type": "markdown",
      "source": [
        "Combined exception handling:"
      ],
      "metadata": {
        "id": "LvhlkgMyskz4"
      }
    },
    {
      "cell_type": "code",
      "source": [
        "try:\n",
        "    result = 10 / int(input(\"Enter a number: \"))\n",
        "except (ZeroDivisionError, ValueError) as e:\n",
        "    print(f\"Error occurred: {e}\")"
      ],
      "metadata": {
        "colab": {
          "base_uri": "https://localhost:8080/"
        },
        "id": "lQaHajlysgBT",
        "outputId": "010cfead-a7af-4d50-a669-5bf6c88d8c32"
      },
      "execution_count": 5,
      "outputs": [
        {
          "output_type": "stream",
          "name": "stdout",
          "text": [
            "Enter a number: 0\n",
            "Error occurred: division by zero\n"
          ]
        }
      ]
    },
    {
      "cell_type": "markdown",
      "source": [
        "**Q8. What is the purpose of the with statement when handling files in Python?**\n",
        "\n",
        "--> The with statement ensures proper resource management. Files are automatically closed after their block of code is executed, even if an error occurs."
      ],
      "metadata": {
        "id": "uelK2dhFsvin"
      }
    },
    {
      "cell_type": "markdown",
      "source": [
        "**Q9. What is the difference between multithreading and multiprocessing?**\n",
        "\n",
        "--> Multithreading:\n",
        "\n",
        "Involves multiple threads within the same process.\n",
        "\n",
        "Threads share the same memory space.\n",
        "\n",
        "Suitable for I/O-bound tasks.\n",
        "\n",
        "Multiprocessing:\n",
        "\n",
        "Involves multiple processes, each with its own memory space.\n",
        "\n",
        "Better for CPU-bound tasks.\n",
        "\n",
        "More resource-intensive than multithreading."
      ],
      "metadata": {
        "id": "0xUZvps1s-w2"
      }
    },
    {
      "cell_type": "markdown",
      "source": [
        "**Q10. What are the advantages of using logging in a program?**\n",
        "\n",
        "--> Centralized error and event tracking.\n",
        "\n",
        "Easy debugging with detailed logs.\n",
        "\n",
        "Helps monitor program execution in production environments.\n",
        "\n",
        "Can log different levels of information (INFO, DEBUG, ERROR).\n"
      ],
      "metadata": {
        "id": "XQ14aFcptJP9"
      }
    },
    {
      "cell_type": "markdown",
      "source": [
        "**Q11. What is memory management in Python?**\n",
        "\n",
        "--> Memory management involves the allocation and deallocation of memory during program execution. Python handles this using:\n",
        "\n",
        "Garbage Collection: Automatically frees up memory by removing unused objects.\n",
        "\n",
        "Reference Counting: Tracks the number of references to an object.\n"
      ],
      "metadata": {
        "id": "PMySQa1itSLE"
      }
    },
    {
      "cell_type": "markdown",
      "source": [
        "**Q12. What are the basic steps involved in exception handling in Python?**\n",
        "\n",
        "-->Identify risky code: Locate sections of code where exceptions might occur.\n",
        "\n",
        "Use try block: Place the risky code inside a try block.\n",
        "\n",
        "Handle exceptions: Use except blocks to catch specific exceptions and handle them.\n",
        "\n",
        "Optional cleanup: Use the finally block for actions that must always be executed, like closing files or releasing resources.\n",
        "\n",
        "Optional success handling: Use the else block for code that should run only if no exception occurs."
      ],
      "metadata": {
        "id": "1JncXEMTtcDp"
      }
    },
    {
      "cell_type": "markdown",
      "source": [
        "**Q13. Why is memory management important in Python?**\n",
        "\n",
        "--> Memory management is crucial because:\n",
        "\n",
        "Efficiency: Proper allocation and deallocation reduce memory wastage.\n",
        "\n",
        "Performance: Ensures optimal program performance by avoiding memory leaks.\n",
        "\n",
        "Reliability: Prevents crashes and unexpected behavior caused by memory mismanagement.\n"
      ],
      "metadata": {
        "id": "cDItLQdQtm6b"
      }
    },
    {
      "cell_type": "markdown",
      "source": [
        "**Q14. What is the role of try and except in exception handling?**\n",
        "\n",
        "--> try: Contains code that might raise an exception.\n",
        "\n",
        "except: Captures and handles specific exceptions.\n"
      ],
      "metadata": {
        "id": "11aUOB6KtvXn"
      }
    },
    {
      "cell_type": "markdown",
      "source": [
        "**Q15. How does Python's garbage collection system work?**\n",
        "\n",
        "-->Garbage collection in Python is automatic and frees memory occupied by objects that are no longer needed.\n",
        "\n",
        "It uses reference counting: An object is deallocated when its reference count drops to zero.\n",
        "\n",
        "Circular references: Python’s garbage collector also handles objects in\n",
        "\n",
        "circular references through a cyclic garbage collector."
      ],
      "metadata": {
        "id": "mx1cxIAWt56Y"
      }
    },
    {
      "cell_type": "markdown",
      "source": [
        "**Q16. What is the purpose of the else block in exception handling?**\n",
        "\n",
        "--> The else block executes code if no exceptions occur in the try block."
      ],
      "metadata": {
        "id": "JnGeytuDuIm-"
      }
    },
    {
      "cell_type": "code",
      "source": [
        "# Example\n",
        "try:\n",
        "    result = 10 / 2\n",
        "except ZeroDivisionError:\n",
        "    print(\"Cannot divide by zero!\")\n",
        "else:\n",
        "    print(f\"Result is {result}\")"
      ],
      "metadata": {
        "colab": {
          "base_uri": "https://localhost:8080/"
        },
        "id": "beL7Oq7hs7nU",
        "outputId": "4ee57126-68d1-4680-9be3-1409a6cf9baf"
      },
      "execution_count": 7,
      "outputs": [
        {
          "output_type": "stream",
          "name": "stdout",
          "text": [
            "Result is 5.0\n"
          ]
        }
      ]
    },
    {
      "cell_type": "markdown",
      "source": [
        "**Q17. What are the common logging levels in Python?**\n",
        "\n",
        "--> DEBUG: Detailed information, useful during development.\n",
        "\n",
        "INFO: General informational messages.\n",
        "\n",
        "WARNING: Indicates potential issues or non-critical problems.\n",
        "\n",
        "ERROR: Errors that prevent the program from functioning properly.\n",
        "\n",
        "CRITICAL: Serious errors that might require immediate attention."
      ],
      "metadata": {
        "id": "yr0KY7TmuVWv"
      }
    },
    {
      "cell_type": "markdown",
      "source": [
        "**Q18. What is the difference between os.fork() and multiprocessing in Python?**\n",
        "\n",
        "--> os.fork():\n",
        "\n",
        "Directly creates a child process from the parent process.\n",
        "\n",
        "Available only on Unix-like systems.\n",
        "\n",
        "Lower-level and requires manual resource management.\n",
        "\n",
        "multiprocessing:\n",
        "\n",
        "High-level module for creating and managing processes.\n",
        "\n",
        "Cross-platform (works on Windows, macOS, and Linux).\n",
        "\n",
        "Easier to use and manage than os.fork()."
      ],
      "metadata": {
        "id": "U66Te-qJudki"
      }
    },
    {
      "cell_type": "markdown",
      "source": [
        "**Q19. What is the importance of closing a file in Python?**\n",
        "\n",
        "--> Closing a file ensures:\n",
        "\n",
        "Resources are released back to the system.\n",
        "\n",
        "Data is properly written to the file (for write operations).\n",
        "\n",
        "Prevents potential data corruption or resource leakage."
      ],
      "metadata": {
        "id": "R7Ieso3Wunk6"
      }
    },
    {
      "cell_type": "markdown",
      "source": [
        "**Q20. What is the difference between file.read() and file.readline() in Python?**\n",
        "\n",
        "--> file.read():\n",
        "\n",
        "Reads the entire content of the file as a single string.\n",
        "\n",
        "file.readline():\n",
        "\n",
        "Reads only one line at a time."
      ],
      "metadata": {
        "id": "FLMQ7FbNuxga"
      }
    },
    {
      "cell_type": "markdown",
      "source": [
        "**Q21. What is the logging module in Python used for?**\n",
        "\n",
        "--> The logging module provides a flexible framework for tracking events during the execution of a program. It’s used for:\n",
        "\n",
        "Debugging.\n",
        "\n",
        "Monitoring program flow.\n",
        "\n",
        "Recording errors or warnings.\n"
      ],
      "metadata": {
        "id": "Pb5QSHMku_08"
      }
    },
    {
      "cell_type": "markdown",
      "source": [
        "**Q22. What is the os module in Python used for in file handling?**\n",
        "\n",
        "--> The os module provides functionality to interact with the operating system. It is used for:\n",
        "\n",
        "File and directory manipulation (os.rename, os.remove).\n",
        "\n",
        "Path operations (os.path).\n",
        "\n",
        "Environment variable access."
      ],
      "metadata": {
        "id": "UwLN5BHKvH3M"
      }
    },
    {
      "cell_type": "markdown",
      "source": [
        "**Q23. What are the challenges associated with memory management in Python?**\n",
        "\n",
        "--> Circular references: While handled by the garbage collector, they can still complicate memory deallocation.\n",
        "\n",
        "Large objects: Inefficient handling of large datasets.\n",
        "\n",
        "Global Interpreter Lock (GIL): Restricts multi-threading, impacting performance in CPU-bound tasks.\n"
      ],
      "metadata": {
        "id": "osoZgYAlvSxO"
      }
    },
    {
      "cell_type": "markdown",
      "source": [
        "**Q24. How do you raise an exception manually in Python?**\n",
        "\n",
        "--> Use the raise statement to manually raise an exception."
      ],
      "metadata": {
        "id": "qmVg1_WZvYOM"
      }
    },
    {
      "cell_type": "code",
      "source": [
        "# Example\n",
        "try:\n",
        "    raise ValueError(\"This is a custom error!\")\n",
        "except ValueError as e:\n",
        "    print(f\"Caught a ValueError: {e}\")"
      ],
      "metadata": {
        "colab": {
          "base_uri": "https://localhost:8080/"
        },
        "id": "zFa3edi5uTox",
        "outputId": "5de09c4b-8f6b-4c27-8a5f-48048fee899d"
      },
      "execution_count": 10,
      "outputs": [
        {
          "output_type": "stream",
          "name": "stdout",
          "text": [
            "Caught a ValueError: This is a custom error!\n"
          ]
        }
      ]
    },
    {
      "cell_type": "markdown",
      "source": [
        "**Q25. Why is it important to use multithreading in certain applications?**\n",
        "\n",
        "--> Multithreading improves performance in:\n",
        "\n",
        "I/O-bound tasks: Like file or network operations.\n",
        "\n",
        "Concurrent execution: Makes programs responsive by performing tasks simultaneously."
      ],
      "metadata": {
        "id": "G_wRCGjwwaHQ"
      }
    },
    {
      "cell_type": "markdown",
      "source": [
        "# Practical Questions\n"
      ],
      "metadata": {
        "id": "uun6NKhrwtUx"
      }
    },
    {
      "cell_type": "code",
      "source": [
        "# 1. How can you open a file for writing in Python and write a string to it?\n",
        "\n",
        "with open('example.txt', 'w') as file:\n",
        "    file.write(\"This is a sample string written to the file.\")\n",
        "\n",
        "print(\"String has been written to 'example.txt'.\")"
      ],
      "metadata": {
        "colab": {
          "base_uri": "https://localhost:8080/"
        },
        "id": "UptcvytMvkE2",
        "outputId": "6aa233e8-b500-4078-8c91-c324f115c432"
      },
      "execution_count": 12,
      "outputs": [
        {
          "output_type": "stream",
          "name": "stdout",
          "text": [
            "String has been written to 'example.txt'.\n"
          ]
        }
      ]
    },
    {
      "cell_type": "code",
      "source": [
        "# 2. Write a Python program to read the contents of a file and print each line.\n",
        "\n",
        "with open('example.txt', 'r') as file:\n",
        "    for line in file:\n",
        "        print(line.strip())\n",
        "\n",
        "print(\"File contents have been printed.\")"
      ],
      "metadata": {
        "colab": {
          "base_uri": "https://localhost:8080/"
        },
        "id": "zIxs4paNwyR7",
        "outputId": "c2209bbd-7b2f-44a3-d455-754edc0a1ad2"
      },
      "execution_count": 13,
      "outputs": [
        {
          "output_type": "stream",
          "name": "stdout",
          "text": [
            "This is a sample string written to the file.\n",
            "File contents have been printed.\n"
          ]
        }
      ]
    },
    {
      "cell_type": "code",
      "source": [
        "# 3. How would you handle a case where the file doesn't exist while trying to open it for reading?\n",
        "\n",
        "try:\n",
        "    with open('nonexistent_file.txt', 'r') as file:\n",
        "        print(file.read())\n",
        "except FileNotFoundError:\n",
        "    print(\"The file does not exist.\")"
      ],
      "metadata": {
        "colab": {
          "base_uri": "https://localhost:8080/"
        },
        "id": "KX4jMFLrxFw8",
        "outputId": "ec02fecc-0144-445a-de10-1d2d84c2b354"
      },
      "execution_count": 14,
      "outputs": [
        {
          "output_type": "stream",
          "name": "stdout",
          "text": [
            "The file does not exist.\n"
          ]
        }
      ]
    },
    {
      "cell_type": "code",
      "source": [
        "# 4. Write a Python script that reads from one file and writes its content to another file.\n",
        "\n",
        "source_file = 'example.txt'\n",
        "destination_file = 'copy_example.txt'\n",
        "\n",
        "with open(source_file, 'r') as src, open(destination_file, 'w') as dest:\n",
        "    dest.write(src.read())\n",
        "\n",
        "print(f\"Contents of '{source_file}' have been copied to '{destination_file}'.\")"
      ],
      "metadata": {
        "colab": {
          "base_uri": "https://localhost:8080/"
        },
        "id": "Fh0RVdRQxOZu",
        "outputId": "771eac9d-8ab8-4bb4-87c1-bd237308b6cb"
      },
      "execution_count": 15,
      "outputs": [
        {
          "output_type": "stream",
          "name": "stdout",
          "text": [
            "Contents of 'example.txt' have been copied to 'copy_example.txt'.\n"
          ]
        }
      ]
    },
    {
      "cell_type": "code",
      "source": [
        "# 5. How would you catch and handle a division by zero error in Python?\n",
        "\n",
        "try:\n",
        "    num = int(input(\"Enter a number: \"))\n",
        "    result = 10 / num\n",
        "    print(f\"Result: {result}\")\n",
        "except ZeroDivisionError:\n",
        "    print(\"Error: Cannot divide by zero.\")"
      ],
      "metadata": {
        "colab": {
          "base_uri": "https://localhost:8080/"
        },
        "id": "LIBHsUOZxbKL",
        "outputId": "88905909-b46e-43d9-fed7-ee660801ca9e"
      },
      "execution_count": 16,
      "outputs": [
        {
          "output_type": "stream",
          "name": "stdout",
          "text": [
            "Enter a number: 34\n",
            "Result: 0.29411764705882354\n"
          ]
        }
      ]
    },
    {
      "cell_type": "code",
      "source": [
        "# 6. Write a Python program that logs an error message to a log file when a division by zero exception occurs.\n",
        "\n",
        "import logging\n",
        "\n",
        "logging.basicConfig(filename='error.log', level=logging.ERROR, format='%(asctime)s - %(levelname)s - %(message)s')\n",
        "\n",
        "try:\n",
        "    num = int(input(\"Enter a number: \"))\n",
        "    result = 10 / num\n",
        "    print(f\"Result: {result}\")\n",
        "except ZeroDivisionError:\n",
        "    logging.error(\"Division by zero attempted.\")\n",
        "    print(\"Error: Cannot divide by zero. Check 'error.log' for details.\")"
      ],
      "metadata": {
        "colab": {
          "base_uri": "https://localhost:8080/"
        },
        "id": "QBUaM2z_xgDL",
        "outputId": "bad0d925-c6a6-4b8b-8da9-5fea285f51e0"
      },
      "execution_count": 17,
      "outputs": [
        {
          "output_type": "stream",
          "name": "stdout",
          "text": [
            "Enter a number: 54\n",
            "Result: 0.18518518518518517\n"
          ]
        }
      ]
    },
    {
      "cell_type": "code",
      "source": [
        "# 7. How do you log information at different levels (INFO, ERROR, WARNING) in Python using the logging module?\n",
        "\n",
        "import logging\n",
        "\n",
        "logging.basicConfig(level=logging.DEBUG, format='%(levelname)s: %(message)s')\n",
        "\n",
        "logging.debug(\"This is a debug message.\")\n",
        "logging.info(\"This is an informational message.\")\n",
        "logging.warning(\"This is a warning message.\")\n",
        "logging.error(\"This is an error message.\")\n",
        "logging.critical(\"This is a critical message.\")"
      ],
      "metadata": {
        "colab": {
          "base_uri": "https://localhost:8080/"
        },
        "id": "BOJe9ywNxn-1",
        "outputId": "ce913926-fc8e-471a-b384-76fe984ea7a7"
      },
      "execution_count": 18,
      "outputs": [
        {
          "output_type": "stream",
          "name": "stderr",
          "text": [
            "WARNING:root:This is a warning message.\n",
            "ERROR:root:This is an error message.\n",
            "CRITICAL:root:This is a critical message.\n"
          ]
        }
      ]
    },
    {
      "cell_type": "code",
      "source": [
        "# 8. Write a program to handle a file opening error using exception handling.\n",
        "\n",
        "try:\n",
        "    with open('nonexistent_file.txt', 'r') as file:\n",
        "        print(file.read())\n",
        "except FileNotFoundError:\n",
        "    print(\"Error: The file could not be found.\")"
      ],
      "metadata": {
        "colab": {
          "base_uri": "https://localhost:8080/"
        },
        "id": "VrAMXGPWxug9",
        "outputId": "524665e3-c8d0-4983-de7c-7616c7609c33"
      },
      "execution_count": 19,
      "outputs": [
        {
          "output_type": "stream",
          "name": "stdout",
          "text": [
            "Error: The file could not be found.\n"
          ]
        }
      ]
    },
    {
      "cell_type": "code",
      "source": [
        "# 9. How can you read a file line by line and store its content in a list in Python?\n",
        "\n",
        "with open('example.txt', 'r') as file:\n",
        "    lines = [line.strip() for line in file]\n",
        "\n",
        "print(\"File content as a list of lines:\")\n",
        "print(lines)"
      ],
      "metadata": {
        "colab": {
          "base_uri": "https://localhost:8080/"
        },
        "id": "wPBG8QPMx3_U",
        "outputId": "97e4bedb-08a6-465b-cced-02f2469ff6e4"
      },
      "execution_count": 20,
      "outputs": [
        {
          "output_type": "stream",
          "name": "stdout",
          "text": [
            "File content as a list of lines:\n",
            "['This is a sample string written to the file.']\n"
          ]
        }
      ]
    },
    {
      "cell_type": "code",
      "source": [
        "# 10. How can you append data to an existing file in Python?\n",
        "\n",
        "with open('example.txt', 'a') as file:\n",
        "    file.write(\"\\nThis is an appended line.\")\n",
        "\n",
        "print(\"Data has been appended to 'example.txt'.\")"
      ],
      "metadata": {
        "colab": {
          "base_uri": "https://localhost:8080/"
        },
        "id": "7QEXOwQgx8jz",
        "outputId": "dcb38d29-541c-4a16-f524-96feb39e9e8c"
      },
      "execution_count": 21,
      "outputs": [
        {
          "output_type": "stream",
          "name": "stdout",
          "text": [
            "Data has been appended to 'example.txt'.\n"
          ]
        }
      ]
    },
    {
      "cell_type": "code",
      "source": [
        "# 11. Write a Python program that uses a try-except block to handle an error when attempting to access a dictionary key that doesn't exist.\n",
        "\n",
        "my_dict = {\"name\": \"Alice\", \"age\": 25}\n",
        "\n",
        "try:\n",
        "    print(my_dict[\"address\"])\n",
        "except KeyError:\n",
        "    print(\"Error: The key 'address' does not exist in the dictionary.\")"
      ],
      "metadata": {
        "colab": {
          "base_uri": "https://localhost:8080/"
        },
        "id": "Felox36gyFKI",
        "outputId": "cb859901-341d-43d7-be6b-61b0c4c4a9ff"
      },
      "execution_count": 22,
      "outputs": [
        {
          "output_type": "stream",
          "name": "stdout",
          "text": [
            "Error: The key 'address' does not exist in the dictionary.\n"
          ]
        }
      ]
    },
    {
      "cell_type": "code",
      "source": [
        "# 12. Write a program that demonstrates using multiple except blocks to handle different types of exceptions.\n",
        "\n",
        "try:\n",
        "    num = int(input(\"Enter a number: \"))\n",
        "    result = 10 / num\n",
        "    print(f\"Result: {result}\")\n",
        "except ZeroDivisionError:\n",
        "    print(\"Error: Cannot divide by zero.\")\n",
        "except ValueError:\n",
        "    print(\"Error: Invalid input. Please enter a number.\")"
      ],
      "metadata": {
        "colab": {
          "base_uri": "https://localhost:8080/"
        },
        "id": "X8CZrX05yJi6",
        "outputId": "e9b3687e-9c36-4381-d442-4eb71466de2e"
      },
      "execution_count": 23,
      "outputs": [
        {
          "output_type": "stream",
          "name": "stdout",
          "text": [
            "Enter a number: 43\n",
            "Result: 0.23255813953488372\n"
          ]
        }
      ]
    },
    {
      "cell_type": "code",
      "source": [
        "# 13. How would you check if a file exists before attempting to read it in Python?\n",
        "\n",
        "import os\n",
        "\n",
        "file_name = 'example.txt'\n",
        "\n",
        "if os.path.exists(file_name):\n",
        "    with open(file_name, 'r') as file:\n",
        "        print(file.read())\n",
        "else:\n",
        "    print(f\"Error: '{file_name}' does not exist.\")"
      ],
      "metadata": {
        "colab": {
          "base_uri": "https://localhost:8080/"
        },
        "id": "Lcc5r0l7yN4f",
        "outputId": "e5d19a01-8df8-47b3-c563-0aae98c64977"
      },
      "execution_count": 24,
      "outputs": [
        {
          "output_type": "stream",
          "name": "stdout",
          "text": [
            "This is a sample string written to the file.\n",
            "This is an appended line.\n"
          ]
        }
      ]
    },
    {
      "cell_type": "code",
      "source": [
        "# 14. Write a program that uses the logging module to log both informational and error messages.\n",
        "\n",
        "import logging\n",
        "\n",
        "logging.basicConfig(filename='app.log', level=logging.INFO, format='%(asctime)s - %(levelname)s - %(message)s')\n",
        "\n",
        "try:\n",
        "    logging.info(\"Program started.\")\n",
        "    num = int(input(\"Enter a number: \"))\n",
        "    result = 10 / num\n",
        "    logging.info(f\"Computation successful. Result: {result}\")\n",
        "except ZeroDivisionError:\n",
        "    logging.error(\"Division by zero error.\")\n",
        "except ValueError:\n",
        "    logging.error(\"Invalid input error.\")\n",
        "\n",
        "logging.info(\"Program ended.\")"
      ],
      "metadata": {
        "colab": {
          "base_uri": "https://localhost:8080/"
        },
        "id": "pQRs2wveyTNY",
        "outputId": "aae87bd2-5f76-418e-b2df-e4e9ea913452"
      },
      "execution_count": 26,
      "outputs": [
        {
          "name": "stdout",
          "output_type": "stream",
          "text": [
            "Enter a number: 0\n"
          ]
        },
        {
          "output_type": "stream",
          "name": "stderr",
          "text": [
            "ERROR:root:Division by zero error.\n"
          ]
        }
      ]
    },
    {
      "cell_type": "code",
      "source": [
        "# 15. Write a Python program that prints the content of a file and handles the case when the file is empty.\n",
        "\n",
        "file_name = 'example.txt'\n",
        "\n",
        "with open(file_name, 'r') as file:\n",
        "    content = file.read()\n",
        "\n",
        "if not content.strip():\n",
        "    print(\"The file is empty.\")\n",
        "else:\n",
        "    print(\"File content:\")\n",
        "    print(content)"
      ],
      "metadata": {
        "colab": {
          "base_uri": "https://localhost:8080/"
        },
        "id": "NM1zFmyNyYpa",
        "outputId": "3a4293d7-660d-401e-ed7c-093e511c7fb2"
      },
      "execution_count": 27,
      "outputs": [
        {
          "output_type": "stream",
          "name": "stdout",
          "text": [
            "File content:\n",
            "This is a sample string written to the file.\n",
            "This is an appended line.\n"
          ]
        }
      ]
    },
    {
      "cell_type": "code",
      "source": [
        "# 16. Demonstrate how to use memory profiling to check the memory usage of a small program.\n",
        "\n",
        "from memory_profiler import profile\n",
        "\n",
        "def sample_function():\n",
        "    numbers = [i for i in range(1000000)]\n",
        "    return sum(numbers)\n",
        "\n",
        "if __name__ == \"__main__\":\n",
        "    sample_function()"
      ],
      "metadata": {
        "colab": {
          "base_uri": "https://localhost:8080/",
          "height": 383
        },
        "id": "IGJxQNR6ykQM",
        "outputId": "99a51b31-f724-444d-b3f0-f0fcb1dcdbab"
      },
      "execution_count": 30,
      "outputs": [
        {
          "output_type": "error",
          "ename": "ModuleNotFoundError",
          "evalue": "No module named 'memory_profiler'",
          "traceback": [
            "\u001b[0;31m---------------------------------------------------------------------------\u001b[0m",
            "\u001b[0;31mModuleNotFoundError\u001b[0m                       Traceback (most recent call last)",
            "\u001b[0;32m<ipython-input-30-b4be8a2ffe3c>\u001b[0m in \u001b[0;36m<cell line: 3>\u001b[0;34m()\u001b[0m\n\u001b[1;32m      1\u001b[0m \u001b[0;31m# 16. Demonstrate how to use memory profiling to check the memory usage of a small program.\u001b[0m\u001b[0;34m\u001b[0m\u001b[0;34m\u001b[0m\u001b[0m\n\u001b[1;32m      2\u001b[0m \u001b[0;34m\u001b[0m\u001b[0m\n\u001b[0;32m----> 3\u001b[0;31m \u001b[0;32mfrom\u001b[0m \u001b[0mmemory_profiler\u001b[0m \u001b[0;32mimport\u001b[0m \u001b[0mprofile\u001b[0m\u001b[0;34m\u001b[0m\u001b[0;34m\u001b[0m\u001b[0m\n\u001b[0m\u001b[1;32m      4\u001b[0m \u001b[0;34m\u001b[0m\u001b[0m\n\u001b[1;32m      5\u001b[0m \u001b[0;32mdef\u001b[0m \u001b[0msample_function\u001b[0m\u001b[0;34m(\u001b[0m\u001b[0;34m)\u001b[0m\u001b[0;34m:\u001b[0m\u001b[0;34m\u001b[0m\u001b[0;34m\u001b[0m\u001b[0m\n",
            "\u001b[0;31mModuleNotFoundError\u001b[0m: No module named 'memory_profiler'",
            "",
            "\u001b[0;31m---------------------------------------------------------------------------\u001b[0;32m\nNOTE: If your import is failing due to a missing package, you can\nmanually install dependencies using either !pip or !apt.\n\nTo view examples of installing some common dependencies, click the\n\"Open Examples\" button below.\n\u001b[0;31m---------------------------------------------------------------------------\u001b[0m\n"
          ],
          "errorDetails": {
            "actions": [
              {
                "action": "open_url",
                "actionText": "Open Examples",
                "url": "/notebooks/snippets/importing_libraries.ipynb"
              }
            ]
          }
        }
      ]
    },
    {
      "cell_type": "code",
      "source": [
        "# 17. Write a Python program to create and write a list of numbers to a file, one number per line.\n",
        "\n",
        "numbers = [1, 2, 3, 4, 5]\n",
        "\n",
        "with open('numbers.txt', 'w') as file:\n",
        "    for number in numbers:\n",
        "        file.write(f\"{number}\\n\")\n",
        "\n",
        "print(\"List of numbers has been written to 'numbers.txt'.\")"
      ],
      "metadata": {
        "colab": {
          "base_uri": "https://localhost:8080/"
        },
        "id": "-BpT1S-UypyA",
        "outputId": "13f09498-00a5-4974-e0f0-806dc915a8af"
      },
      "execution_count": 31,
      "outputs": [
        {
          "output_type": "stream",
          "name": "stdout",
          "text": [
            "List of numbers has been written to 'numbers.txt'.\n"
          ]
        }
      ]
    },
    {
      "cell_type": "code",
      "source": [
        "# 18. How would you implement a basic logging setup that logs to a file with rotation after 1MB?\n",
        "\n",
        "import logging\n",
        "from logging.handlers import RotatingFileHandler\n",
        "\n",
        "handler = RotatingFileHandler('rotating_log.log', maxBytes=1024 * 1024, backupCount=3)\n",
        "logging.basicConfig(level=logging.INFO, handlers=[handler])\n",
        "\n",
        "for i in range(10000):\n",
        "    logging.info(f\"Log entry {i}\")"
      ],
      "metadata": {
        "id": "5nmFRV5nzuJ-"
      },
      "execution_count": 32,
      "outputs": []
    },
    {
      "cell_type": "code",
      "source": [
        "# 19. Write a program that handles both IndexError and KeyError using a try-except block.\n",
        "\n",
        "my_list = [1, 2, 3]\n",
        "my_dict = {\"name\": \"Alice\"}\n",
        "\n",
        "try:\n",
        "    print(my_list[5])\n",
        "    print(my_dict[\"age\"])\n",
        "except IndexError:\n",
        "    print(\"Error: List index out of range.\")\n",
        "except KeyError:\n",
        "    print(\"Error: Dictionary key not found.\")"
      ],
      "metadata": {
        "colab": {
          "base_uri": "https://localhost:8080/"
        },
        "id": "jCAR5U4Mz03K",
        "outputId": "8881f01d-c558-4df3-b4be-817af2877cdc"
      },
      "execution_count": 33,
      "outputs": [
        {
          "output_type": "stream",
          "name": "stdout",
          "text": [
            "Error: List index out of range.\n"
          ]
        }
      ]
    },
    {
      "cell_type": "code",
      "source": [
        "# 20. How would you open a file and read its contents using a context manager in Python?\n",
        "\n",
        "with open('example.txt', 'r') as file:\n",
        "    content = file.read()\n",
        "\n",
        "print(\"File content:\")\n",
        "print(content)"
      ],
      "metadata": {
        "colab": {
          "base_uri": "https://localhost:8080/"
        },
        "id": "5BXS67eBz8GK",
        "outputId": "adf0b332-c3b2-4be8-ca25-3a5ec91fe925"
      },
      "execution_count": 34,
      "outputs": [
        {
          "output_type": "stream",
          "name": "stdout",
          "text": [
            "File content:\n",
            "This is a sample string written to the file.\n",
            "This is an appended line.\n"
          ]
        }
      ]
    },
    {
      "cell_type": "code",
      "source": [
        "# 21. Write a Python program that reads a file and prints the number of occurrences of a specific word.\n",
        "\n",
        "word_to_find = \"Python\"\n",
        "\n",
        "with open('example.txt', 'r') as file:\n",
        "    content = file.read()\n",
        "\n",
        "word_count = content.split().count(word_to_find)\n",
        "\n",
        "print(f\"The word '{word_to_find}' appears {word_count} times in the file.\")"
      ],
      "metadata": {
        "colab": {
          "base_uri": "https://localhost:8080/"
        },
        "id": "mzYQ5PPY0CQ0",
        "outputId": "cb0f9db4-6be2-4d06-8de2-d5dae349391e"
      },
      "execution_count": 35,
      "outputs": [
        {
          "output_type": "stream",
          "name": "stdout",
          "text": [
            "The word 'Python' appears 0 times in the file.\n"
          ]
        }
      ]
    },
    {
      "cell_type": "code",
      "source": [
        "# 22. How can you check if a file is empty before attempting to read its contents?\n",
        "\n",
        "import os\n",
        "\n",
        "file_name = 'example.txt'\n",
        "\n",
        "if os.path.exists(file_name) and os.stat(file_name).st_size == 0:\n",
        "    print(f\"The file '{file_name}' is empty.\")\n",
        "else:\n",
        "    with open(file_name, 'r') as file:\n",
        "        print(\"File content:\")\n",
        "        print(file.read())"
      ],
      "metadata": {
        "colab": {
          "base_uri": "https://localhost:8080/"
        },
        "id": "U2-kmx3q0HGC",
        "outputId": "94748801-c711-4031-c722-365d38bb82e1"
      },
      "execution_count": 36,
      "outputs": [
        {
          "output_type": "stream",
          "name": "stdout",
          "text": [
            "File content:\n",
            "This is a sample string written to the file.\n",
            "This is an appended line.\n"
          ]
        }
      ]
    },
    {
      "cell_type": "code",
      "source": [
        "# 23. Write a Python program that writes to a log file when an error occurs during file handling.\n",
        "\n",
        "import logging\n",
        "\n",
        "logging.basicConfig(filename='file_error.log', level=logging.ERROR, format='%(asctime)s - %(message)s')\n",
        "\n",
        "try:\n",
        "    with open('nonexistent_file.txt', 'r') as file:\n",
        "        print(file.read())\n",
        "except FileNotFoundError as e:\n",
        "    logging.error(f\"File handling error: {e}\")\n",
        "    print(\"Error occurred while handling the file. Check 'file_error.log' for details.\")"
      ],
      "metadata": {
        "colab": {
          "base_uri": "https://localhost:8080/"
        },
        "id": "tm5J7eUW0LG4",
        "outputId": "f0ec98c3-2499-4dce-8797-f5312ca68e8d"
      },
      "execution_count": 37,
      "outputs": [
        {
          "output_type": "stream",
          "name": "stderr",
          "text": [
            "ERROR:root:File handling error: [Errno 2] No such file or directory: 'nonexistent_file.txt'\n"
          ]
        },
        {
          "output_type": "stream",
          "name": "stdout",
          "text": [
            "Error occurred while handling the file. Check 'file_error.log' for details.\n"
          ]
        }
      ]
    }
  ]
}